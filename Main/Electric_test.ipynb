{
 "cells": [
  {
   "cell_type": "code",
   "execution_count": 1,
   "id": "bc9eaf32-7eb9-4d85-acbc-378b74198f8a",
   "metadata": {},
   "outputs": [],
   "source": [
    "import joblib\n",
    "import pandas as pd\n",
    "\n",
    "# Load model and encoder\n",
    "model = joblib.load('grid_stability_model.pkl')\n",
    "le = joblib.load('label_encoder.pkl')"
   ]
  },
  {
   "cell_type": "code",
   "execution_count": 2,
   "id": "65c09f8a-d3ad-40e2-9c1e-4eea12962d91",
   "metadata": {},
   "outputs": [],
   "source": [
    "new_data = pd.read_csv('test_data.csv')"
   ]
  },
  {
   "cell_type": "code",
   "execution_count": 3,
   "id": "58263854-cf40-46a7-ad51-9702c834182a",
   "metadata": {},
   "outputs": [],
   "source": [
    "df = new_data.drop(columns=['stab', 'stabf'], errors='ignore')"
   ]
  },
  {
   "cell_type": "code",
   "execution_count": 4,
   "id": "07911967-758e-4748-a786-857999e7b020",
   "metadata": {},
   "outputs": [],
   "source": [
    "def add_engineered_features(df):\n",
    "    df['total_power_consumed'] = df[['p2', 'p3', 'p4']].abs().sum(axis=1)\n",
    "    df['producer_to_consumer_ratio'] = df['p1'] / df['total_power_consumed']\n",
    "    df['avg_tau_consumers'] = df[['tau2', 'tau3', 'tau4']].mean(axis=1)\n",
    "    df['avg_g_consumers'] = df[['g2', 'g3', 'g4']].mean(axis=1)\n",
    "    return df"
   ]
  },
  {
   "cell_type": "code",
   "execution_count": 5,
   "id": "4c4219ee-488c-4ab5-a336-0bd96ed28ca8",
   "metadata": {},
   "outputs": [],
   "source": [
    "df = add_engineered_features(df)"
   ]
  },
  {
   "cell_type": "code",
   "execution_count": 6,
   "id": "7174a4f8-4da5-47bc-aa14-3b69bff4cc81",
   "metadata": {},
   "outputs": [],
   "source": [
    "y_pred_new = model.predict(df)"
   ]
  },
  {
   "cell_type": "code",
   "execution_count": 7,
   "id": "7249d7cc-6dda-40ab-9570-d61e5d64c6e3",
   "metadata": {},
   "outputs": [],
   "source": [
    "predictions = le.inverse_transform(y_pred_new)\n",
    "df['Predicted_Stability'] = predictions"
   ]
  },
  {
   "cell_type": "code",
   "execution_count": 8,
   "id": "172465a6-e63a-4018-adb6-15931ff1d8b8",
   "metadata": {},
   "outputs": [],
   "source": [
    "df.to_csv('predicted_grid_stability.csv', index=False)"
   ]
  }
 ],
 "metadata": {
  "kernelspec": {
   "display_name": "Python 3 (ipykernel)",
   "language": "python",
   "name": "python3"
  },
  "language_info": {
   "codemirror_mode": {
    "name": "ipython",
    "version": 3
   },
   "file_extension": ".py",
   "mimetype": "text/x-python",
   "name": "python",
   "nbconvert_exporter": "python",
   "pygments_lexer": "ipython3",
   "version": "3.11.5"
  }
 },
 "nbformat": 4,
 "nbformat_minor": 5
}
